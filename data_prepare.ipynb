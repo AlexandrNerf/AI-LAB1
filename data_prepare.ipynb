{
 "cells": [
  {
   "cell_type": "code",
   "execution_count": 1,
   "metadata": {},
   "outputs": [],
   "source": [
    "import torch\n",
    "import numpy as np\n",
    "import torch.nn as nn\n",
    "import torchvision.models as models\n",
    "import os\n",
    "import matplotlib.pyplot as plt\n",
    "import cv2\n",
    "import Augmentor\n",
    "import shutil\n",
    "import random\n",
    "\n",
    "from torchvision import datasets\n",
    "from torchvision import transforms\n",
    "from torch.utils.data import DataLoader\n",
    "from torch.utils.data.sampler import SubsetRandomSampler\n",
    "from sklearn.metrics import accuracy_score, precision_score, recall_score, f1_score\n",
    "from sklearn.preprocessing import LabelEncoder\n",
    "from torch.optim.lr_scheduler import CosineAnnealingLR\n",
    "from sklearn.metrics import confusion_matrix\n",
    "from sklearn.model_selection import train_test_split"
   ]
  },
  {
   "cell_type": "markdown",
   "metadata": {},
   "source": [
    "Первым делом проверим количество наших данных"
   ]
  },
  {
   "cell_type": "code",
   "execution_count": 2,
   "metadata": {},
   "outputs": [
    {
     "data": {
      "image/png": "[encoded data removed]",
      "text/plain": [
       "<Figure size 1000x600 with 1 Axes>"
      ]
     },
     "metadata": {},
     "output_type": "display_data"
    }
   ],
   "source": [
    "direct = os.listdir('train')\n",
    "image_counts = []\n",
    "\n",
    "for d in direct:\n",
    "    folder_path = os.path.join(\"train\", d)\n",
    "    if os.path.isdir(folder_path):\n",
    "        images = os.listdir(folder_path)\n",
    "        image_counts.append(len(images))\n",
    "\n",
    "plt.figure(figsize=(10, 6))\n",
    "plt.bar(direct, image_counts, color='skyblue')\n",
    "plt.xlabel('Classes')\n",
    "plt.ylabel('Images cnt')\n",
    "plt.title('Images per class')\n",
    "plt.xticks(rotation=90)\n",
    "plt.show()"
   ]
  },
  {
   "cell_type": "markdown",
   "metadata": {},
   "source": [
    "Количество изображений одинаково, однако их не хватает. Добавим аугментаций, чтобы увеличить число данных. Расширим их с помощью Augmentor"
   ]
  },
  {
   "cell_type": "markdown",
   "metadata": {},
   "source": [
    "Вытащим val из train и к train применим аугментацию"
   ]
  },
  {
   "cell_type": "code",
   "execution_count": 3,
   "metadata": {},
   "outputs": [],
   "source": [
    "source_folder = 'train/hotdog'\n",
    "destination_folder = 'val/hotdog'\n",
    "files = os.listdir(source_folder)\n",
    "\n",
    "n = 300\n",
    "selected_files = random.sample(files, n)\n",
    "for file_name in selected_files:\n",
    "    source = os.path.join(source_folder, file_name)\n",
    "    destination = os.path.join(destination_folder, file_name)\n",
    "    shutil.move(source, destination)\n",
    "\n",
    "source_folder_2 = 'train/nothotdog'\n",
    "destination_folder_2 = 'val/nothotdog'\n",
    "files = os.listdir(source_folder_2)\n",
    "\n",
    "n = 300\n",
    "selected_files = random.sample(files, n)\n",
    "\n",
    "for file_name in selected_files:\n",
    "    source = os.path.join(source_folder_2, file_name)\n",
    "    destination = os.path.join(destination_folder_2, file_name)\n",
    "    shutil.move(source, destination)"
   ]
  },
  {
   "cell_type": "markdown",
   "metadata": {},
   "source": [
    "Теперь у нас 20% изображений идут на validation. Аугментируем их всех"
   ]
  },
  {
   "cell_type": "code",
   "execution_count": 4,
   "metadata": {},
   "outputs": [
    {
     "name": "stdout",
     "output_type": "stream",
     "text": [
      "Initialised with 1200 image(s) found.\n",
      "Output directory set to train/hotdog\\../../aug_train/hotdog."
     ]
    },
    {
     "name": "stderr",
     "output_type": "stream",
     "text": [
      "Processing <PIL.Image.Image image mode=RGB size=299x299 at 0x1F5681054F0>: 100%|██████████| 800/800 [00:01<00:00, 405.87 Samples/s]                  \n",
      "Processing <PIL.Image.Image image mode=RGB size=299x299 at 0x1F567B7FF20>: 100%|██████████| 1200/1200 [00:03<00:00, 396.20 Samples/s]                   \n"
     ]
    },
    {
     "name": "stdout",
     "output_type": "stream",
     "text": [
      "Initialised with 1200 image(s) found.\n",
      "Output directory set to train/nothotdog\\../../aug_train/nothotdog."
     ]
    },
    {
     "name": "stderr",
     "output_type": "stream",
     "text": [
      "Processing <PIL.Image.Image image mode=RGB size=299x299 at 0x1F5658EEDE0>: 100%|██████████| 800/800 [00:02<00:00, 365.61 Samples/s]                  \n",
      "Processing <PIL.Image.Image image mode=RGB size=299x299 at 0x1F567C83E00>: 100%|██████████| 1200/1200 [00:03<00:00, 361.14 Samples/s]                   \n"
     ]
    }
   ],
   "source": [
    "p = Augmentor.Pipeline(\"train/hotdog\", output_directory=\"../../aug_train/hotdog\")\n",
    "p.rotate(probability=0.7, max_left_rotation=15, max_right_rotation=15)\n",
    "p.flip_left_right(probability=0.5)\n",
    "p.zoom_random(probability=0.5, percentage_area=0.8)\n",
    "p.flip_top_bottom(probability=0.5)\n",
    "p.random_brightness(probability = 0.5, min_factor=0.4, max_factor=0.9)\n",
    "p.sample(400)\n",
    "p.process()\n",
    "\n",
    "q = Augmentor.Pipeline(\"train/nothotdog\", output_directory=\"../../aug_train/nothotdog\")\n",
    "q.rotate(probability=0.7, max_left_rotation=15, max_right_rotation=15)\n",
    "q.flip_left_right(probability=0.5)\n",
    "q.zoom_random(probability=0.5, percentage_area=0.9)\n",
    "q.random_brightness(probability = 0.5, min_factor=0.4, max_factor=0.9)\n",
    "q.flip_top_bottom(probability=0.5)\n",
    "# Укажем количество изображений, которые необходимо сгенерировать\n",
    "q.sample(400)  # Пример: сгенерировать 1000 аугментированных изображений\n",
    "q.process()"
   ]
  },
  {
   "cell_type": "markdown",
   "metadata": {},
   "source": [
    "Теперь аугментированные тренировочные данные хранятся в папке aug_train, а валидационные в val"
   ]
  }
 ],
 "metadata": {
  "kernelspec": {
   "display_name": "Python 3",
   "language": "python",
   "name": "python3"
  },
  "language_info": {
   "codemirror_mode": {
    "name": "ipython",
    "version": 3
   },
   "file_extension": ".py",
   "mimetype": "text/x-python",
   "name": "python",
   "nbconvert_exporter": "python",
   "pygments_lexer": "ipython3",
   "version": "3.12.1"
  }
 },
 "nbformat": 4,
 "nbformat_minor": 2
}
